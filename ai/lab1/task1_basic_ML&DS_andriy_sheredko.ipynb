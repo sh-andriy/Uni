{
  "cells": [
    {
      "cell_type": "markdown",
      "metadata": {
        "id": "HXiPVw_feCSb"
      },
      "source": [
        "## Завдання на лабораторну работу №1\n",
        "\n",
        "В цій лабораторної роботі Вам буде запропоновано вирішити кілька завдань скориставшись засобами мови python. Рішення кожного завдання передбачає написання коду і демонстрація його працездатності на прикладах. За кожне вірно виконане завдання Ви отримуєте **1 бал**.\n",
        "\n",
        "**Роботи ідентифіковані як ІДЕНТИЧНІ одразу отримують 0 балів.**\n",
        "\n",
        "[зверніть увагу на типізацію функцій](https://docs.python.org/3/library/typing.html)\n",
        "\n",
        "```NB```: При написанні коду не забувайте видаляти ```pass```!"
      ]
    },
    {
      "cell_type": "markdown",
      "source": [
        "**Don't cheat!**"
      ],
      "metadata": {
        "id": "TmyQqNDcZVsT"
      }
    },
    {
      "cell_type": "markdown",
      "metadata": {
        "id": "IPQHbkSueCSf"
      },
      "source": [
        "Перед тим, як надіслати своє завдання на перевірку, вкажіть в назві файлу своє ім'я та прізвище!\n",
        "Наприклад: ```task1_basic_ML&DS_anastasiya_deineko.ipynb```"
      ]
    },
    {
      "cell_type": "markdown",
      "metadata": {
        "id": "OE2qgEaeeCSg"
      },
      "source": [
        "Завдання 1: На вхід функція приймає рядок s. Функція повинна повернути True якщо рядок є паліндромом та False – в протилежному випадку.\n",
        "\n",
        "Наприклад:\n",
        "\n",
        "*   `is_palindrome(s='anade') -> False`\n",
        "*   `is_palindrome(s='ana') -> True`\n",
        "\n",
        "\n"
      ]
    },
    {
      "cell_type": "code",
      "execution_count": 13,
      "metadata": {
        "id": "Kkp_Eb1jeCSg",
        "ExecuteTime": {
          "end_time": "2024-02-13T19:20:39.264093Z",
          "start_time": "2024-02-13T19:20:39.260710Z"
        },
        "colab": {
          "base_uri": "https://localhost:8080/"
        },
        "outputId": "0a04320d-cb61-430c-d8d5-206b70c12fb7"
      },
      "outputs": [
        {
          "output_type": "stream",
          "name": "stdout",
          "text": [
            "True\n",
            "False\n"
          ]
        }
      ],
      "source": [
        "def is_palindrome(s: str) -> bool:\n",
        "    reverse_s = s[::-1]\n",
        "    if s == reverse_s:\n",
        "        return True\n",
        "    else:\n",
        "        return False\n",
        "print(is_palindrome(\"radar\"))  # має бути True\n",
        "print(is_palindrome(\"python\"))  # має бути False"
      ]
    },
    {
      "cell_type": "markdown",
      "metadata": {
        "id": "IyJBIte7eCSh"
      },
      "source": [
        "Завдання 2: Розв’язати квадратне рівняння $ax^2+bx + c = 0$.  Напишіть функцію,яка приймає параметри квадратного рівняння, а повертає одне рішення або декілька.\n",
        "\n",
        "Наприклад:  \n",
        "\n",
        "\n",
        "```\n",
        "solve_quad(a=1, b=-2, c=1) -> 1  \n",
        "solve_quad(a=1, b=0, c=-1) -> (-1, 1)  \n",
        "solve_quad(a=0, b=2, c=-1) -> 0.5\n",
        "```\n",
        "\n",
        "\n",
        "\n",
        "\n",
        "\n"
      ]
    },
    {
      "cell_type": "code",
      "execution_count": 14,
      "metadata": {
        "id": "T-fCGsPjeCSh",
        "colab": {
          "base_uri": "https://localhost:8080/"
        },
        "outputId": "99fe3ee8-e130-4dbd-ade9-d7bee23903a4"
      },
      "outputs": [
        {
          "output_type": "stream",
          "name": "stdout",
          "text": [
            "Two solutions: 2.0, 1.0\n",
            "One solution: -1.0\n",
            "No real solutions\n"
          ]
        }
      ],
      "source": [
        "def solve_quad(a: float, b: float, c: float):\n",
        "    discriminant = b**2 - 4*a*c\n",
        "    if discriminant >= 0:\n",
        "        x1 = (-b + discriminant**0.5) / (2*a)\n",
        "        x2 = (-b - discriminant**0.5) / (2*a)\n",
        "        if discriminant == 0:\n",
        "            return f\"One solution: {x1}\"\n",
        "        else:\n",
        "            return f\"Two solutions: {x1}, {x2}\"\n",
        "    else:\n",
        "        return \"No real solutions\"\n",
        "\n",
        "print(solve_quad(1, -3, 2))\n",
        "print(solve_quad(1, 2, 1))\n",
        "print(solve_quad(1, 0, 1))"
      ]
    },
    {
      "cell_type": "markdown",
      "metadata": {
        "id": "XTXSIYdYeCSh"
      },
      "source": [
        "Завдання 3: Реалізація функції merge. На вхід функція приймає 2 відсортованих масиви - `a` і `b`. Функція повинна повернути один відсортований масив, який містить всі елементи масивів `a` і `b`.\n",
        "\n",
        "Наприклад: `merge([1, 3, 3, 5], [3, 5, 5, 7]) -> [1, 3, 3, 3, 5, 5, 5, 7]`"
      ]
    },
    {
      "cell_type": "code",
      "execution_count": 15,
      "metadata": {
        "id": "nfXKB-nveCSh",
        "colab": {
          "base_uri": "https://localhost:8080/"
        },
        "outputId": "408eb1f6-0454-45f0-b304-57159b7776ee"
      },
      "outputs": [
        {
          "output_type": "stream",
          "name": "stdout",
          "text": [
            "[1, 2, 3, 4, 5, 6]\n"
          ]
        }
      ],
      "source": [
        "from typing import List\n",
        "\n",
        "def merge(a: List[int], b: List[int]) -> List[int]:\n",
        "    result = []\n",
        "    while a and b:\n",
        "        if a[0] < b[0]:\n",
        "            result.append(a.pop(0))\n",
        "        else:\n",
        "            result.append(b.pop(0))\n",
        "    result += a + b\n",
        "    return result\n",
        "\n",
        "print(merge([1, 3, 5], [2, 4, 6]))"
      ]
    },
    {
      "cell_type": "markdown",
      "metadata": {
        "id": "Z4zl4_cNeCSi"
      },
      "source": [
        "Завдання 4: Реалізація алгоритму [MergeSort](https://ru.wikipedia.org/wiki/%D0%A1%D0%BE%D1%80%D1%82%D0%B8%D1%80%D0%BE%D0%B2%D0%BA%D0%B0_%D1%81%D0%BB%D0%B8%D1%8F%D0%BD%D0%B8%D0%B5%D0%BC)..\n",
        "\n",
        "Наприклад: `MergeSort([3, 1, 3, 5]) -> [1, 3, 3, 5]`"
      ]
    },
    {
      "cell_type": "code",
      "execution_count": 3,
      "metadata": {
        "id": "VhDE9sTyeCSi",
        "colab": {
          "base_uri": "https://localhost:8080/"
        },
        "outputId": "a34964f9-c5e9-4115-cab8-6fc2cf74503b"
      },
      "outputs": [
        {
          "output_type": "stream",
          "name": "stdout",
          "text": [
            "Sorted list: [1, 3, 3, 5]\n"
          ]
        }
      ],
      "source": [
        "from typing import List\n",
        "\n",
        "def custom_merge_sort(arr: List[int]) -> List[int]:\n",
        "    if len(arr) <= 1:\n",
        "        return arr\n",
        "\n",
        "    mid_point = len(arr) // 2\n",
        "    left_half = custom_merge_sort(arr[:mid_point])\n",
        "    right_half = custom_merge_sort(arr[mid_point:])\n",
        "\n",
        "    return merge_sorted_halves(left_half, right_half)\n",
        "\n",
        "def merge_sorted_halves(left: List[int], right: List[int]) -> List[int]:\n",
        "    sorted_list = []\n",
        "    i = j = 0\n",
        "\n",
        "    while i < len(left) and j < len(right):\n",
        "        if left[i] < right[j]:\n",
        "            sorted_list.append(left[i])\n",
        "            i += 1\n",
        "        else:\n",
        "            sorted_list.append(right[j])\n",
        "            j += 1\n",
        "\n",
        "    sorted_list.extend(left[i:])\n",
        "    sorted_list.extend(right[j:])\n",
        "\n",
        "    return sorted_list\n",
        "\n",
        "if __name__ == \"__main__\":\n",
        "    example_list = [3, 1, 3, 5]\n",
        "    sorted_list = custom_merge_sort(example_list)\n",
        "    print(f\"Sorted list: {sorted_list}\")\n"
      ]
    },
    {
      "cell_type": "markdown",
      "metadata": {
        "id": "oiEEW3IKeCSj"
      },
      "source": [
        "## Знайомство з numpy."
      ]
    },
    {
      "cell_type": "markdown",
      "metadata": {
        "id": "eEtj358ceCSj"
      },
      "source": [
        "Всі завдання з цієї частини передбачають написання функції на мові Python, а так само приклади роботи цієї функції. При реалізації завдань потрібно використовувати методи з бібліотеки `numpy`. Рішення з циклами будуть оцінені в 0 балів.\n",
        "\n",
        "[базова документація](http://www.numpy.org)\n",
        "\n",
        "```NB```: Під матрицею розуміється двовимірний [numpy.array](https://docs.scipy.org/doc/numpy/reference/generated/numpy.array.html)\n",
        "\n",
        "Для підключення модуля скористайтеся наступним рядком.\n",
        "Використовуйте стандартне скорочення np."
      ]
    },
    {
      "cell_type": "code",
      "execution_count": 4,
      "metadata": {
        "id": "tpv_AzJzeCSj"
      },
      "outputs": [],
      "source": [
        "import numpy as np"
      ]
    },
    {
      "cell_type": "markdown",
      "metadata": {
        "id": "syBtY_AReCSj"
      },
      "source": [
        "Cтворення одномірного і двомірного масивів методами numpy:"
      ]
    },
    {
      "cell_type": "code",
      "execution_count": null,
      "metadata": {
        "id": "yfm0zbHJeCSj",
        "outputId": "e896f45e-df10-4364-f796-10032bd467cd"
      },
      "outputs": [
        {
          "name": "stdout",
          "output_type": "stream",
          "text": [
            "[1. 2. 3.]\n"
          ]
        }
      ],
      "source": [
        "Ar1d = np.array([1, 2, 3], dtype=np.float64)\n",
        "print(Ar1d)"
      ]
    },
    {
      "cell_type": "code",
      "execution_count": null,
      "metadata": {
        "id": "NO1tV1fteCSk",
        "outputId": "59fedd1c-9b1b-43a9-a689-822c7efb3927"
      },
      "outputs": [
        {
          "name": "stdout",
          "output_type": "stream",
          "text": [
            "[[1. 2.]\n",
            " [3. 4.]]\n"
          ]
        }
      ],
      "source": [
        "Ar2d = np.array([[1, 2],\n",
        "                [3, 4]], dtype=np.float)\n",
        "print(Ar2d)"
      ]
    },
    {
      "cell_type": "markdown",
      "metadata": {
        "id": "NZns18uoeCSk"
      },
      "source": [
        "Завдання 6: Написати функцію яка на вхід приймає 3 масиви – `X, Y, Z`. функція повертатиме `True` у випадку, коли вони рівні та `False` – якщо ні.\n",
        "\n",
        "Рекомендація до завдання: Не використовуйте оператор `==`"
      ]
    },
    {
      "cell_type": "code",
      "execution_count": 16,
      "metadata": {
        "id": "nzv5GOlqeCSl",
        "colab": {
          "base_uri": "https://localhost:8080/"
        },
        "outputId": "104fefab-2e3f-4998-884c-731504fe3870"
      },
      "outputs": [
        {
          "output_type": "stream",
          "name": "stdout",
          "text": [
            "True\n",
            "False\n"
          ]
        }
      ],
      "source": [
        "def check_arrays_equality(x, y, z):\n",
        "    return np.array_equal(x, y) and np.array_equal(y, z)\n",
        "\n",
        "x = np.array([1, 2, 3])\n",
        "y = np.array([1, 2, 3])\n",
        "z = np.array([1, 2, 3])\n",
        "print(check_arrays_equality(x, y, z))\n",
        "\n",
        "y = np.array([4, 5, 6])\n",
        "print(check_arrays_equality(x, y, z))"
      ]
    },
    {
      "cell_type": "markdown",
      "metadata": {
        "id": "4vYN-bnIeCSl"
      },
      "source": [
        "Завдання 7: написати функцію, яка приймає на вході вектор рядок, а повертає вектор стовбець.\n",
        "\n",
        "Рекомендація до завдання: Забороняється використовувати операцію транспонування! Скористайтесь методом `reshape`."
      ]
    },
    {
      "cell_type": "code",
      "execution_count": 17,
      "metadata": {
        "id": "cwnufrdPeCSl",
        "colab": {
          "base_uri": "https://localhost:8080/"
        },
        "outputId": "bc68fef5-fa0e-4e65-da54-ed1741137bc4"
      },
      "outputs": [
        {
          "output_type": "stream",
          "name": "stdout",
          "text": [
            "[[1]\n",
            " [2]\n",
            " [3]\n",
            " [4]]\n"
          ]
        }
      ],
      "source": [
        "def row_to_column_vector(x):\n",
        "    return x.reshape(-1, 1)\n",
        "\n",
        "x = np.array([1, 2, 3, 4])\n",
        "print(row_to_column_vector(x))"
      ]
    },
    {
      "cell_type": "markdown",
      "metadata": {
        "id": "uvi-JOAheCSl"
      },
      "source": [
        "Завдання 8: Написати функцію яка приймає на вхід двовимірний масив, а повертає масив з діагональними елементами цієї матриці.\n",
        "\n",
        "Наприклад: `[[1, 2], [3, 4]] -> [1 4]`"
      ]
    },
    {
      "cell_type": "code",
      "execution_count": 18,
      "metadata": {
        "id": "uBSPXOJkeCSl",
        "colab": {
          "base_uri": "https://localhost:8080/"
        },
        "outputId": "64107a55-5eb0-4a3d-827e-7c667b970a93"
      },
      "outputs": [
        {
          "output_type": "stream",
          "name": "stdout",
          "text": [
            "[1 5 9]\n"
          ]
        }
      ],
      "source": [
        "def get_diagonal_elems(x):\n",
        "    return np.diag(x)\n",
        "\n",
        "x = np.array([[1, 2, 3], [4, 5, 6], [7, 8, 9]])\n",
        "print(get_diagonal_elems(x))\n"
      ]
    },
    {
      "cell_type": "markdown",
      "metadata": {
        "id": "PvwgIU1veCSm"
      },
      "source": [
        "Завдання 9: Написати функцію яка приймає на вхід двомірний масив, а повертає масив елементів які знаходяться на другорядній діагоналі. Приклад: `[[1, 2], [3, 4]] -> [2 3]`"
      ]
    },
    {
      "cell_type": "code",
      "execution_count": 19,
      "metadata": {
        "id": "zIRKjQofeCSm",
        "colab": {
          "base_uri": "https://localhost:8080/"
        },
        "outputId": "58eccfc8-b8ca-4e5f-e1be-98b383a46394"
      },
      "outputs": [
        {
          "output_type": "stream",
          "name": "stdout",
          "text": [
            "[3 5 7]\n"
          ]
        }
      ],
      "source": [
        "def get_secondary_diagonal_el(x):\n",
        "    return np.diag(np.fliplr(x))\n",
        "\n",
        "x = np.array([[1, 2, 3], [4, 5, 6], [7, 8, 9]])\n",
        "print(get_secondary_diagonal_el(x))"
      ]
    },
    {
      "cell_type": "markdown",
      "metadata": {
        "id": "TQ61tk7SeCSm"
      },
      "source": [
        "## Робота з бібліотекою pandas\n",
        "\n",
        "В наступній частині лабораторної роботи розглянемо бібліотеку pandas.\n",
        "Перед виконанням цієї частини необхідно завантажити датасет `titanic.csv`\n",
        "\n",
        "[основна документація цього розділу](https://pandas.pydata.org/)"
      ]
    },
    {
      "cell_type": "code",
      "execution_count": 9,
      "metadata": {
        "id": "Fbe_qcF0eCSm"
      },
      "outputs": [],
      "source": [
        "import pandas as pd\n",
        "\n",
        "# Завантажте датасет. Ознайомтесь з тим як це правильно зробити, уважно прочитавши документацію по функції pd.read_csv.\n",
        "# Зверніть особливу увагу на роздільники датасета.\n",
        "\n",
        "dataset = pd.read_csv('titanic.csv')"
      ]
    },
    {
      "cell_type": "markdown",
      "metadata": {
        "id": "qTxYBLWdeCSm"
      },
      "source": [
        "Завдання 10: Кого більше - чоловіків чи жінок?"
      ]
    },
    {
      "cell_type": "code",
      "execution_count": 10,
      "metadata": {
        "id": "58MgIBEleCSm",
        "colab": {
          "base_uri": "https://localhost:8080/"
        },
        "outputId": "706ba889-047c-4c09-8063-24ce03af4b3f"
      },
      "outputs": [
        {
          "output_type": "stream",
          "name": "stdout",
          "text": [
            "Gender counts: {'male': 577, 'female': 314}\n"
          ]
        }
      ],
      "source": [
        "def count_gender(dataframe):\n",
        "    gender_counts = dataframe['Sex'].value_counts()\n",
        "    return gender_counts.to_dict()\n",
        "\n",
        "gender_counts = count_gender(dataset)\n",
        "print(\"Gender counts:\", gender_counts)"
      ]
    },
    {
      "cell_type": "markdown",
      "metadata": {
        "id": "ApLZCvNveCSm"
      },
      "source": [
        "Завдання 11: Виведіть наступні характеристики пасажирів: середній вік пасажирів, середній вік чоловіків, середній вік жінок, максимальний і мінімальний вік серед чоловіків і жінок."
      ]
    },
    {
      "cell_type": "code",
      "execution_count": 11,
      "metadata": {
        "id": "Sg59NcqLeCSn",
        "colab": {
          "base_uri": "https://localhost:8080/"
        },
        "outputId": "80a02e13-ce1a-4158-c57a-1d41c01243cd"
      },
      "outputs": [
        {
          "output_type": "stream",
          "name": "stdout",
          "text": [
            "Average Age: 29.69911764705882\n",
            "Average Age (Male): 30.72664459161148\n",
            "Average Age (Female): 27.915708812260537\n",
            "Max Age (Male): 80.0\n",
            "Min Age (Male): 0.42\n",
            "Max Age (Female): 63.0\n",
            "Min Age (Female): 0.75\n"
          ]
        }
      ],
      "source": [
        "def passenger_age_stats(dataframe):\n",
        "    stats = {\n",
        "        'Average Age': dataframe['Age'].mean(),\n",
        "        'Average Age (Male)': dataframe[dataframe['Sex'] == 'male']['Age'].mean(),\n",
        "        'Average Age (Female)': dataframe[dataframe['Sex'] == 'female']['Age'].mean(),\n",
        "        'Max Age (Male)': dataframe[dataframe['Sex'] == 'male']['Age'].max(),\n",
        "        'Min Age (Male)': dataframe[dataframe['Sex'] == 'male']['Age'].min(),\n",
        "        'Max Age (Female)': dataframe[dataframe['Sex'] == 'female']['Age'].max(),\n",
        "        'Min Age (Female)': dataframe[dataframe['Sex'] == 'female']['Age'].min(),\n",
        "    }\n",
        "    return stats\n",
        "\n",
        "age_stats = passenger_age_stats(dataset)\n",
        "for stat, value in age_stats.items():\n",
        "    print(f\"{stat}: {value}\")\n"
      ]
    },
    {
      "cell_type": "markdown",
      "metadata": {
        "id": "P5zkuX9VeCSn"
      },
      "source": [
        " ## Знайомство з бібліотекою matplotlib"
      ]
    },
    {
      "cell_type": "markdown",
      "metadata": {
        "id": "cYyqxB4MeCSn"
      },
      "source": [
        "Для початку ознайомтесь з [документацією](https://matplotlib.org/)"
      ]
    },
    {
      "cell_type": "markdown",
      "metadata": {
        "id": "pEt3gexreCSn"
      },
      "source": [
        "Завдання 12: Для наведених та реалізованих графіків Вам нобхідно зробити розширення (додати підписи, легенду тощо):\n",
        "\n",
        "$f_{1}(x) =  \\frac{sin(x)}{x}$\n",
        "\n",
        "$f_{2}(x) =  \\frac{cos(x)}{x^2 + 1}$\n",
        "\n",
        "$f_{3}(x) =  cos^2(x) - \\frac{sin(x)}{2}$  \n",
        "\n",
        "$f_{4}(x) =  cos(x)$  \n",
        "\n",
        "$f_{5}(x) =  \\frac{sin(x)}{x^2 + 1}$"
      ]
    },
    {
      "cell_type": "code",
      "outputs": [],
      "source": [
        "from matplotlib import pylab as plt\n",
        "%matplotlib inline"
      ],
      "metadata": {
        "id": "AYrmlkquPPMK"
      },
      "execution_count": null
    },
    {
      "cell_type": "code",
      "execution_count": null,
      "metadata": {
        "id": "UtB89oaVeCSn",
        "outputId": "48a50904-4cd7-4373-e09b-9c1c6004d418"
      },
      "outputs": [
        {
          "data": {
            "text/plain": [
              "[<matplotlib.lines.Line2D at 0x7fd483be2f40>]"
            ]
          },
          "execution_count": 7,
          "metadata": {
            "tags": []
          },
          "output_type": "execute_result"
        },
        {
          "data": {
            "image/png": "[encoded data removed]",
            "text/plain": [
              "<Figure size 432x288 with 1 Axes>"
            ]
          },
          "metadata": {
            "needs_background": "light",
            "tags": []
          },
          "output_type": "display_data"
        }
      ],
      "source": [
        "x = [i for i in range (50)]\n",
        "y = [i**2 for i in range (50)]\n",
        "plt.plot(x,y)"
      ]
    },
    {
      "cell_type": "code",
      "execution_count": null,
      "metadata": {
        "id": "tCJ2CuOAeCSo"
      },
      "outputs": [],
      "source": [
        "import matplotlib.pyplot as plt\n",
        "\n",
        "x = np.arange(-10, 10, 0.01)\n",
        "\n",
        "y1 = np.sin(x) / x\n",
        "y2 = np.cos(x) / (1. + x ** 2)\n",
        "y3 = np.cos(x) * np.cos(x) - np.sin(x) / 2."
      ]
    },
    {
      "cell_type": "code",
      "execution_count": null,
      "metadata": {
        "id": "ki86Yt_XeCSo",
        "outputId": "543d5281-b728-4f43-d545-b60d2b8f7f04"
      },
      "outputs": [
        {
          "data": {
            "image/png": "[encoded data removed]",
            "text/plain": [
              "<Figure size 432x288 with 1 Axes>"
            ]
          },
          "metadata": {
            "needs_background": "light",
            "tags": []
          },
          "output_type": "display_data"
        }
      ],
      "source": [
        "plt.plot(x, y1)\n",
        "plt.plot(x, y2)\n",
        "plt.plot(x, y3)\n",
        "plt.show()"
      ]
    },
    {
      "cell_type": "code",
      "execution_count": null,
      "metadata": {
        "id": "U3iVhlYeeCSo"
      },
      "outputs": [],
      "source": [
        "import matplotlib.pyplot as plt\n",
        "\n",
        "x = np.arange(-10, 10, 0.01)\n",
        "\n",
        "y4 = np.cos(x)\n",
        "y5 = np.sin(x) / (1. + x ** 2)"
      ]
    },
    {
      "cell_type": "code",
      "execution_count": null,
      "metadata": {
        "id": "70fOVYjJeCSo",
        "outputId": "2e700e4d-1d73-4232-fc8b-8528146ac5e2"
      },
      "outputs": [
        {
          "data": {
            "text/plain": [
              "[<matplotlib.lines.Line2D at 0x7fd484291220>]"
            ]
          },
          "execution_count": 28,
          "metadata": {
            "tags": []
          },
          "output_type": "execute_result"
        },
        {
          "data": {
            "image/png": "[encoded data removed]",
            "text/plain": [
              "<Figure size 432x288 with 1 Axes>"
            ]
          },
          "metadata": {
            "needs_background": "light",
            "tags": []
          },
          "output_type": "display_data"
        }
      ],
      "source": [
        "plt.plot(x,y4)\n",
        "plt.plot(x,y5)"
      ]
    },
    {
      "cell_type": "markdown",
      "metadata": {
        "id": "Tg-QmR-eeCSp"
      },
      "source": [
        "Завдання 13: Для побудованого ргафіку щільності розподілу випадкової змінної Вам необхідно зробити доповнення (підписи, легенда тощо)."
      ]
    },
    {
      "cell_type": "code",
      "execution_count": null,
      "metadata": {
        "id": "9Av3YD1NeCSp"
      },
      "outputs": [],
      "source": [
        "d = np.random.normal(loc=2.0, scale=3.5, size=1000)"
      ]
    },
    {
      "cell_type": "code",
      "execution_count": null,
      "metadata": {
        "id": "rBQNcArUeCSp",
        "outputId": "1fe0b87a-762a-44c8-e965-c8c6a076a503"
      },
      "outputs": [
        {
          "data": {
            "image/png": "[encoded data removed]",
            "text/plain": [
              "<Figure size 432x288 with 1 Axes>"
            ]
          },
          "metadata": {
            "needs_background": "light",
            "tags": []
          },
          "output_type": "display_data"
        }
      ],
      "source": [
        "plt.hist(d)\n",
        "plt.show()"
      ]
    },
    {
      "cell_type": "markdown",
      "source": [
        "Кожне правильно виконане завдання оцінюється в `1 бал`."
      ],
      "metadata": {
        "id": "mpBxw_8hTEJv"
      }
    }
  ],
  "metadata": {
    "colab": {
      "provenance": []
    },
    "kernelspec": {
      "display_name": "Python 3",
      "language": "python",
      "name": "python3"
    },
    "language_info": {
      "codemirror_mode": {
        "name": "ipython",
        "version": 3
      },
      "file_extension": ".py",
      "mimetype": "text/x-python",
      "name": "python",
      "nbconvert_exporter": "python",
      "pygments_lexer": "ipython3",
      "version": "3.8.5"
    }
  },
  "nbformat": 4,
  "nbformat_minor": 0
}